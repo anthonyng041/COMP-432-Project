{
  "nbformat": 4,
  "nbformat_minor": 0,
  "metadata": {
    "colab": {
      "provenance": []
    },
    "kernelspec": {
      "name": "python3",
      "display_name": "Python 3"
    },
    "language_info": {
      "name": "python"
    }
  },
  "cells": [
    {
      "cell_type": "markdown",
      "source": [
        "Dataset:\n",
        "\n",
        "\n",
        "\n",
        "Training:\n",
        "According to the SpeechBrain-MOAB repository, Leave-One-Session-Out cross-validation is the prefered strategy during training, where one session per subject is part of the test set while the remainder are used for training. The alternative, Leave-One-Subject-Out, where a single subject is used as the test set while the others are for training, is difficult since each person has a unique brain activity.  "
      ],
      "metadata": {
        "id": "cbXYDq9pBCSL"
      }
    },
    {
      "cell_type": "code",
      "execution_count": null,
      "metadata": {
        "id": "0IEPlHtT5OwL"
      },
      "outputs": [],
      "source": [
        "%%capture\n",
        "!pip install moabb\n",
        "\n",
        "%%capture\n",
        "!pip install braindecode\n",
        "!pip install skorch"
      ]
    },
    {
      "cell_type": "markdown",
      "source": [],
      "metadata": {
        "id": "i5Npx6_5BBbu"
      }
    }
  ]
}